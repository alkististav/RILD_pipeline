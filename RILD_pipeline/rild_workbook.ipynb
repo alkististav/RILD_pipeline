{
 "cells": [
  {
   "cell_type": "code",
   "execution_count": 1,
   "id": "396e0323-3b04-4784-bb26-6f96c4049b71",
   "metadata": {},
   "outputs": [],
   "source": [
    "%reload_ext autoreload\n",
    "%autoreload 2"
   ]
  },
  {
   "cell_type": "code",
   "execution_count": 2,
   "id": "ed5b5fea",
   "metadata": {},
   "outputs": [
    {
     "name": "stdout",
     "output_type": "stream",
     "text": [
      "/mnt/RILD/RILD_pipeline\n"
     ]
    }
   ],
   "source": [
    "cd /mnt/RILD/RILD_pipeline"
   ]
  },
  {
   "cell_type": "code",
   "execution_count": 3,
   "id": "e8626983",
   "metadata": {
    "scrolled": true
   },
   "outputs": [
    {
     "name": "stdout",
     "output_type": "stream",
     "text": [
      "Defaulting to user installation because normal site-packages is not writeable\n",
      "Obtaining file:///mnt/RILD/RILD_pipeline\n",
      "  Preparing metadata (setup.py) ... \u001B[?25ldone\n",
      "\u001B[?25hInstalling collected packages: RILD-pipeline\n",
      "  Running setup.py develop for RILD-pipeline\n",
      "Successfully installed RILD-pipeline-0.1\n",
      "Note: you may need to restart the kernel to use updated packages.\n"
     ]
    }
   ],
   "source": [
    "pip install -e ."
   ]
  },
  {
   "cell_type": "markdown",
   "id": "958404b0-f700-434d-9860-6c171304a9bd",
   "metadata": {},
   "source": [
    "importing the RILD_pipeline module functions/constructs"
   ]
  },
  {
   "cell_type": "code",
   "execution_count": 13,
   "id": "6da13ee5-45e6-4043-8bfb-2b9e5c73dd7a",
   "metadata": {},
   "outputs": [],
   "source": [
    "from RILD_pipeline import format\n",
    "from RILD_pipeline.operations import parameters\n",
    "from RILD_pipeline.operations.Patient import Patient\n",
    "from RILD_pipeline import transform\n",
    "from RILD_pipeline import classify_tissues\n",
    "from RILD_pipeline import register\n",
    "from RILD_pipeline import dose_per_class"
   ]
  },
  {
   "cell_type": "markdown",
   "id": "99e320e1-3cdd-4dba-8b14-7e67378c4309",
   "metadata": {},
   "source": [
    "Setting the data directory, then creating the Patient object and parameters object"
   ]
  },
  {
   "cell_type": "code",
   "execution_count": 8,
   "id": "c097b1b4-5e87-41dc-89ad-9c3bc6bee7e2",
   "metadata": {},
   "outputs": [],
   "source": [
    "data_dir = '/mnt/RILD/data/'"
   ]
  },
  {
   "cell_type": "code",
   "execution_count": 9,
   "id": "8ef9a15d-da43-4039-ba8d-87449a1a55ec",
   "metadata": {
    "tags": []
   },
   "outputs": [],
   "source": [
    "params = parameters(params_dict = {'orig_image_folder': 'orig', 'aligned_image_folder' : 'aligned', \n",
    "                                   'inference': {'nr_class_inference':6, 'nr_fold_eval':19}, 'format' : {'M' : 1, 'sigma' : 1}, \n",
    "                                   'models' : {'format.segment': { 'bones':'segmentation/skeleton_best_metric_model.pth', \n",
    "                                                                 'airways': 'segmentation/airway_best_metric_model.pth',\n",
    "                                                                  'lungs': 'segmentation/lungs_best_metric_model.pth'} , \n",
    "                                   'classify_tissues' : ['classification/UNet_drop00_T5_CE_old_loss_monai_plus_def_proper_norm_classes6_pretrained_new_net_False_rotTrue_int_augTrue_reduce0_f32_lr0.0001_ep100_b16_best_model.pt',\n",
    "                                                                        'classification/UNet_drop00_T5_CE_old_loss_monai_plus_def_proper_norm_classes6_pretrained_new_net_False_rotTrue_int_augTrue_reduce0_f64_lr0.0001_ep100_b8_best_model.pt', \n",
    "                                                                        'classification/UNet_drop00_T5_DC_old_loss_monai_plus_def_proper_norm_classes6_pretrained_new_net_False_rotTrue_int_augTrue_reduce0_f32_lr0.0001_ep100_b16_best_model.pt',\n",
    "                                                                        'classification/UNet_drop00_T5_DC_old_loss_monai_plus_def_proper_norm_classes6_pretrained_new_net_False_rotTrue_int_augTrue_reduce0_f64_lr0.0001_ep100_b8_best_model.pt',\n",
    "                                                                        'classification/UNet_drop00_T5_LV_old_loss_monai_plus_def_proper_norm_classes6_pretrained_new_net_False_rotTrue_int_augTrue_reduce0_f32_lr0.0001_ep100_b16_best_model.pt',\n",
    "                                                                       'classification/UNet_drop00_T5_LV_old_loss_monai_plus_def_proper_norm_classes6_pretrained_new_net_False_rotTrue_int_augTrue_reduce0_f64_lr0.0001_ep100_b8_best_model.pt']\n",
    "\n",
    "   }})\n",
    "               "
   ]
  },
  {
   "cell_type": "code",
   "execution_count": 10,
   "id": "7641c874-9f93-4248-976e-ee507dc62067",
   "metadata": {
    "tags": []
   },
   "outputs": [
    {
     "name": "stderr",
     "output_type": "stream",
     "text": [
      "2023-10-18 10:12:44,287 [INFO] searching for models for format.segment\n",
      "2023-10-18 10:12:44,293 [INFO] For function format.segment model in path /mnt/RILD/data/models/segmentation/skeleton_best_metric_model.pth exists.\n",
      "2023-10-18 10:12:44,296 [INFO] For function format.segment model in path /mnt/RILD/data/models/segmentation/airway_best_metric_model.pth exists.\n",
      "2023-10-18 10:12:44,299 [INFO] For function format.segment model in path /mnt/RILD/data/models/segmentation/lungs_best_metric_model.pth exists.\n",
      "2023-10-18 10:12:44,303 [INFO] searching for models for classify_tissues\n",
      "2023-10-18 10:12:44,308 [INFO] For function classify_tissues model in path /mnt/RILD/data/models/classification/UNet_drop00_T5_CE_old_loss_monai_plus_def_proper_norm_classes6_pretrained_new_net_False_rotTrue_int_augTrue_reduce0_f32_lr0.0001_ep100_b16_best_model.pt exists.\n",
      "2023-10-18 10:12:44,311 [INFO] For function classify_tissues model in path /mnt/RILD/data/models/classification/UNet_drop00_T5_CE_old_loss_monai_plus_def_proper_norm_classes6_pretrained_new_net_False_rotTrue_int_augTrue_reduce0_f64_lr0.0001_ep100_b8_best_model.pt exists.\n",
      "2023-10-18 10:12:44,317 [INFO] For function classify_tissues model in path /mnt/RILD/data/models/classification/UNet_drop00_T5_DC_old_loss_monai_plus_def_proper_norm_classes6_pretrained_new_net_False_rotTrue_int_augTrue_reduce0_f32_lr0.0001_ep100_b16_best_model.pt exists.\n",
      "2023-10-18 10:12:44,322 [INFO] For function classify_tissues model in path /mnt/RILD/data/models/classification/UNet_drop00_T5_DC_old_loss_monai_plus_def_proper_norm_classes6_pretrained_new_net_False_rotTrue_int_augTrue_reduce0_f64_lr0.0001_ep100_b8_best_model.pt exists.\n",
      "2023-10-18 10:12:44,326 [INFO] For function classify_tissues model in path /mnt/RILD/data/models/classification/UNet_drop00_T5_LV_old_loss_monai_plus_def_proper_norm_classes6_pretrained_new_net_False_rotTrue_int_augTrue_reduce0_f32_lr0.0001_ep100_b16_best_model.pt exists.\n",
      "2023-10-18 10:12:44,332 [INFO] For function classify_tissues model in path /mnt/RILD/data/models/classification/UNet_drop00_T5_LV_old_loss_monai_plus_def_proper_norm_classes6_pretrained_new_net_False_rotTrue_int_augTrue_reduce0_f64_lr0.0001_ep100_b8_best_model.pt exists.\n"
     ]
    },
    {
     "name": "stdout",
     "output_type": "stream",
     "text": [
      "{'main_dir': '/mnt/RILD/data/SABR0195', 'orig_image': '/mnt/RILD/data/SABR0195/DICOM', 'models_path': '/mnt/RILD/data/models', 'radio_image': '/mnt/RILD/data/SABR0195/radiotherapy/', 'reg_path': '/mnt/RILD/data/SABR0195/registrations/results/', 'aff_path': '/mnt/RILD/data/SABR0195/affine', 'tissue_classes': '/mnt/RILD/data/SABR0195/tissue_classes', 'orig_base_image': '/mnt/RILD/data/SABR0195/CT/orig', 'orig_seg_image': '/mnt/RILD/data/SABR0195/segmentations/orig', 'orig_stack_path': '/mnt/RILD/data/SABR0195/stacks/orig', 'orig_radio_image': '/mnt/RILD/data/SABR0195/radiotherapy/orig', 'aligned_base_image': '/mnt/RILD/data/SABR0195/CT/aligned', 'aligned_seg_image': '/mnt/RILD/data/SABR0195/segmentations/aligned', 'aligned_stack_path': '/mnt/RILD/data/SABR0195/stacks/aligned', 'aligned_radio_image': '/mnt/RILD/data/SABR0195/radiotherapy/aligned'}\n"
     ]
    }
   ],
   "source": [
    "rild_patient = Patient('SABR0195','orig', 'aligned', params, create_log_file = True, patients_data_dir = data_dir)"
   ]
  },
  {
   "cell_type": "markdown",
   "source": [
    "First we convert to nifti"
   ],
   "metadata": {
    "collapsed": false
   }
  },
  {
   "cell_type": "code",
   "execution_count": 10,
   "id": "0344ec52",
   "metadata": {},
   "outputs": [],
   "source": [
    "#First convert the dicom files to nifti\n",
    "format.convert_dcm2nii(rild_patient, params)"
   ]
  },
  {
   "cell_type": "code",
   "execution_count": 11,
   "id": "c69edf13",
   "metadata": {},
   "outputs": [],
   "source": [
    "#Can also try converting RT struct files but doesn't always work\n",
    "format.convert_rt(rild_patient)"
   ]
  },
  {
   "cell_type": "markdown",
   "id": "4bad80ac-01b8-4a03-a6bc-d018ddb54808",
   "metadata": {},
   "source": [
    "Now we can start segmenting"
   ]
  },
  {
   "cell_type": "code",
   "execution_count": 12,
   "id": "79fc7056-0421-4ca4-894e-d1a89d4e6624",
   "metadata": {},
   "outputs": [
    {
     "name": "stderr",
     "output_type": "stream",
     "text": [
      "2023-10-04 12:18:03,204 [INFO] Initialising the airways segmentation\n",
      "Loading dataset: 100%|████████████████████████████| 5/5 [00:04<00:00,  1.04it/s]\n"
     ]
    },
    {
     "name": "stdout",
     "output_type": "stream",
     "text": [
      "file written: /mnt/RILD/data/benchmarkIDEAL/lung062/segmentations/orig/obs0_airways.nii.gz.\n",
      "file written: /mnt/RILD/data/benchmarkIDEAL/lung062/segmentations/orig/obs1_airways.nii.gz.\n",
      "file written: /mnt/RILD/data/benchmarkIDEAL/lung062/segmentations/orig/obs2_airways.nii.gz.\n",
      "file written: /mnt/RILD/data/benchmarkIDEAL/lung062/segmentations/orig/obs3_airways.nii.gz.\n"
     ]
    },
    {
     "name": "stderr",
     "output_type": "stream",
     "text": [
      "2023-10-04 12:19:09,712 [INFO] airways segmentation is done\n"
     ]
    },
    {
     "name": "stdout",
     "output_type": "stream",
     "text": [
      "file written: /mnt/RILD/data/benchmarkIDEAL/lung062/segmentations/orig/obs4_airways.nii.gz.\n"
     ]
    }
   ],
   "source": [
    "format.segment(rild_patient, params, \"airways\")"
   ]
  },
  {
   "cell_type": "code",
   "execution_count": 13,
   "id": "946dce93",
   "metadata": {},
   "outputs": [
    {
     "name": "stderr",
     "output_type": "stream",
     "text": [
      "2023-10-04 12:23:16,907 [INFO] Initialising the lungs segmentation\n",
      "Loading dataset: 100%|████████████████████████████| 5/5 [00:03<00:00,  1.25it/s]\n"
     ]
    },
    {
     "name": "stdout",
     "output_type": "stream",
     "text": [
      "file written: /mnt/RILD/data/benchmarkIDEAL/lung062/segmentations/orig/obs0_lungs.nii.gz.\n",
      "file written: /mnt/RILD/data/benchmarkIDEAL/lung062/segmentations/orig/obs1_lungs.nii.gz.\n",
      "file written: /mnt/RILD/data/benchmarkIDEAL/lung062/segmentations/orig/obs2_lungs.nii.gz.\n",
      "file written: /mnt/RILD/data/benchmarkIDEAL/lung062/segmentations/orig/obs3_lungs.nii.gz.\n",
      "file written: /mnt/RILD/data/benchmarkIDEAL/lung062/segmentations/orig/obs4_lungs.nii.gz.\n"
     ]
    },
    {
     "name": "stderr",
     "output_type": "stream",
     "text": [
      "2023-10-04 12:24:38,448 [INFO] lungs segmentation is done\n"
     ]
    }
   ],
   "source": [
    "format.segment(rild_patient, params, \"lungs\")"
   ]
  },
  {
   "cell_type": "code",
   "execution_count": null,
   "id": "bac1d757",
   "metadata": {},
   "outputs": [],
   "source": [
    "format.segment(rild_patient, params, \"bones\")"
   ]
  },
  {
   "cell_type": "code",
   "execution_count": null,
   "id": "467e5895-71c3-4434-a980-2f28a7d7e83b",
   "metadata": {},
   "outputs": [],
   "source": [
    "format.segment_vessels(rild_patient)"
   ]
  },
  {
   "cell_type": "markdown",
   "source": [
    "This is the initial alignment. Change bone_reg to False if you want it to use the image intensity information to align the images."
   ],
   "metadata": {
    "collapsed": false
   }
  },
  {
   "cell_type": "code",
   "execution_count": null,
   "id": "04d54822-ede8-4abf-88b1-84aab04eee99",
   "metadata": {},
   "outputs": [],
   "source": [
    "format.register_bones(rild_patient, params, bone_reg=True)"
   ]
  },
  {
   "cell_type": "markdown",
   "source": [
    "Here we generate the features for the deformable registration between timepoints, and then we run the registration."
   ],
   "metadata": {
    "collapsed": false
   }
  },
  {
   "cell_type": "code",
   "execution_count": null,
   "id": "422170f7",
   "metadata": {},
   "outputs": [],
   "source": [
    "transform.transform(rild_patient)"
   ]
  },
  {
   "cell_type": "code",
   "execution_count": null,
   "id": "b6fc3ff3",
   "metadata": {},
   "outputs": [],
   "source": [
    "register.register(rild_patient)"
   ]
  },
  {
   "cell_type": "markdown",
   "source": [
    "Here we do the tissue classification. This step is independent of the registration step before it, all you need as a prerequisite is the aligned CTs and lung masks."
   ],
   "metadata": {
    "collapsed": false
   }
  },
  {
   "cell_type": "code",
   "execution_count": null,
   "id": "d2154616",
   "metadata": {},
   "outputs": [],
   "source": [
    "classify_tissues.classify_tissues(rild_patient, params)"
   ]
  },
  {
   "cell_type": "markdown",
   "source": [
    "This is the dose-tissue relationship step. All the previous parts of the pipeline need to have results for this to run."
   ],
   "metadata": {
    "collapsed": false
   }
  },
  {
   "cell_type": "code",
   "execution_count": null,
   "id": "18f25f54",
   "metadata": {},
   "outputs": [],
   "source": [
    "dose_per_class.dose_per_class(rild_patient)"
   ]
  }
 ],
 "metadata": {
  "kernelspec": {
   "display_name": "Python 3 (ipykernel)",
   "language": "python",
   "name": "python3"
  },
  "language_info": {
   "codemirror_mode": {
    "name": "ipython",
    "version": 3
   },
   "file_extension": ".py",
   "mimetype": "text/x-python",
   "name": "python",
   "nbconvert_exporter": "python",
   "pygments_lexer": "ipython3",
   "version": "3.9.13"
  }
 },
 "nbformat": 4,
 "nbformat_minor": 5
}
